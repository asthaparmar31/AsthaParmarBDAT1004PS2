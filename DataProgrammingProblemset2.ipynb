{
 "cells": [
  {
   "cell_type": "markdown",
   "id": "588118a2",
   "metadata": {},
   "source": [
    "Student ID: 200537002\n",
    "Question 1:"
   ]
  },
  {
   "cell_type": "code",
   "execution_count": 1,
   "id": "ff32afed",
   "metadata": {},
   "outputs": [],
   "source": [
    "a = 0: It assigns 0 to the global variable a.\n",
    "\n",
    "•def b():: It defines a function b.\n",
    "\n",
    "•global a: It shows that  a inside the function b refers to the global variable. \n",
    "\n",
    "•a = c(a): This is the function c with the current value of a (0), adds 2 to it, and assigns the resulting value of 2 to a.\n",
    "\n",
    "•def c(a):: It defines function c that takes a single argument a.\n",
    "\n",
    "•return a + 2: It returns the value including 2."
   ]
  },
  {
   "cell_type": "code",
   "execution_count": 2,
   "id": "aab6e03b",
   "metadata": {},
   "outputs": [],
   "source": [
    "a = 0\n",
    "def b():\n",
    " global a\n",
    " a = c(a)\n",
    "def c(a):\n",
    " return a + 2"
   ]
  },
  {
   "cell_type": "code",
   "execution_count": 3,
   "id": "acd5676b",
   "metadata": {},
   "outputs": [],
   "source": [
    "b()"
   ]
  },
  {
   "cell_type": "code",
   "execution_count": 4,
   "id": "ddda5b03",
   "metadata": {},
   "outputs": [],
   "source": [
    "b()"
   ]
  },
  {
   "cell_type": "code",
   "execution_count": 5,
   "id": "aff8c8c3",
   "metadata": {},
   "outputs": [],
   "source": [
    "b()"
   ]
  },
  {
   "cell_type": "code",
   "execution_count": 6,
   "id": "31403208",
   "metadata": {},
   "outputs": [
    {
     "data": {
      "text/plain": [
       "6"
      ]
     },
     "execution_count": 6,
     "metadata": {},
     "output_type": "execute_result"
    }
   ],
   "source": [
    "a"
   ]
  },
  {
   "cell_type": "markdown",
   "id": "d5689d91",
   "metadata": {},
   "source": [
    "Question 2"
   ]
  },
  {
   "cell_type": "code",
   "execution_count": 7,
   "id": "54dd3dcf",
   "metadata": {},
   "outputs": [],
   "source": [
    "def fileLength(filename):\n",
    "    try:\n",
    "        infile = open(filename)\n",
    "        contents = infile.read()\n",
    "        infile.close()\n",
    "        return len(contents)\n",
    "    except FileNotFoundError:\n",
    "        print(f\"File {filename} not found.\")"
   ]
  },
  {
   "cell_type": "code",
   "execution_count": 39,
   "id": "101df777",
   "metadata": {},
   "outputs": [
    {
     "data": {
      "text/plain": [
       "7402"
      ]
     },
     "execution_count": 39,
     "metadata": {},
     "output_type": "execute_result"
    }
   ],
   "source": [
    "fileLength('Midterm.ipynb')"
   ]
  },
  {
   "cell_type": "code",
   "execution_count": 11,
   "id": "1e20cf65",
   "metadata": {},
   "outputs": [
    {
     "name": "stdout",
     "output_type": "stream",
     "text": [
      "File astha.ipynb not found.\n"
     ]
    }
   ],
   "source": [
    "fileLength('astha.ipynb')"
   ]
  },
  {
   "cell_type": "markdown",
   "id": "67748169",
   "metadata": {},
   "source": [
    "Question 3"
   ]
  },
  {
   "cell_type": "code",
   "execution_count": 40,
   "id": "54327ae1",
   "metadata": {},
   "outputs": [],
   "source": [
    "class Marsupial:\n",
    "    def __init__(a):\n",
    "        a.pouch = []\n",
    "        \n",
    "    def put_in_pouch(a, item):\n",
    "        a.pouch.append(item)\n",
    "        \n",
    "    def pouch_contents(a):\n",
    "        return a.pouch\n",
    "\n",
    "class Kangaroo(Marsupial):\n",
    "    def __init__(a, x=0, y=0):\n",
    "        super().__init__()\n",
    "        a.x = x\n",
    "        a.y = y\n",
    "        \n",
    "    def jump(a, dx, dy):\n",
    "        a.x += dx\n",
    "        a.y += dy\n",
    "        \n",
    "    def __str__(a):\n",
    "        return f\"I am a Kangaroo located at coordinates ({a.x},{a.y})\""
   ]
  },
  {
   "cell_type": "code",
   "execution_count": 41,
   "id": "50f74c3c",
   "metadata": {},
   "outputs": [
    {
     "name": "stdout",
     "output_type": "stream",
     "text": [
      "I am a Kangaroo located at coordinates (0,0)\n"
     ]
    }
   ],
   "source": [
    "k = Kangaroo(0,0)\n",
    "print(k)"
   ]
  },
  {
   "cell_type": "code",
   "execution_count": 14,
   "id": "8d425a9f",
   "metadata": {},
   "outputs": [
    {
     "data": {
      "text/plain": [
       "['doll', 'firetruck', 'kitten']"
      ]
     },
     "execution_count": 14,
     "metadata": {},
     "output_type": "execute_result"
    }
   ],
   "source": [
    "k.put_in_pouch('doll')\n",
    "k.put_in_pouch('firetruck')\n",
    "k.put_in_pouch('kitten')\n",
    "k.pouch_contents()"
   ]
  },
  {
   "cell_type": "code",
   "execution_count": 15,
   "id": "5002ad46",
   "metadata": {},
   "outputs": [
    {
     "name": "stdout",
     "output_type": "stream",
     "text": [
      "I am a Kangaroo located at coordinates (3,0)\n"
     ]
    }
   ],
   "source": [
    "k.jump(1,0)\n",
    "k.jump(1,0)\n",
    "k.jump(1,0)\n",
    "print(k)"
   ]
  },
  {
   "cell_type": "markdown",
   "id": "6e3725e7",
   "metadata": {},
   "source": [
    "Question 4"
   ]
  },
  {
   "cell_type": "code",
   "execution_count": 16,
   "id": "00ea4c64",
   "metadata": {},
   "outputs": [],
   "source": [
    "def collatz(x):\n",
    "    print(x)\n",
    "    if x == 1:\n",
    "        return\n",
    "    elif x % 2 == 0:\n",
    "        collatz(x // 2)\n",
    "    else:\n",
    "        collatz(3 * x + 1)"
   ]
  },
  {
   "cell_type": "code",
   "execution_count": 17,
   "id": "e33d9b8d",
   "metadata": {},
   "outputs": [
    {
     "name": "stdout",
     "output_type": "stream",
     "text": [
      "1\n"
     ]
    }
   ],
   "source": [
    "collatz(1)"
   ]
  },
  {
   "cell_type": "code",
   "execution_count": 18,
   "id": "82ee038e",
   "metadata": {},
   "outputs": [
    {
     "name": "stdout",
     "output_type": "stream",
     "text": [
      "10\n",
      "5\n",
      "16\n",
      "8\n",
      "4\n",
      "2\n",
      "1\n"
     ]
    }
   ],
   "source": [
    "collatz(10)"
   ]
  },
  {
   "cell_type": "markdown",
   "id": "f696621b",
   "metadata": {},
   "source": [
    "Question 5"
   ]
  },
  {
   "cell_type": "code",
   "execution_count": 19,
   "id": "500711e0",
   "metadata": {},
   "outputs": [],
   "source": [
    "def binary(n):\n",
    "    if n == 0:\n",
    "        print(0, end='')\n",
    "    elif n == 1:\n",
    "        print(1, end='')\n",
    "    else:\n",
    "        binary(n // 2)\n",
    "        print(n % 2, end='')"
   ]
  },
  {
   "cell_type": "code",
   "execution_count": 20,
   "id": "1e3d44ce",
   "metadata": {},
   "outputs": [
    {
     "name": "stdout",
     "output_type": "stream",
     "text": [
      "0"
     ]
    }
   ],
   "source": [
    "binary(0)"
   ]
  },
  {
   "cell_type": "code",
   "execution_count": 21,
   "id": "b23bef2c",
   "metadata": {},
   "outputs": [
    {
     "name": "stdout",
     "output_type": "stream",
     "text": [
      "1"
     ]
    }
   ],
   "source": [
    " binary(1)"
   ]
  },
  {
   "cell_type": "code",
   "execution_count": 22,
   "id": "42ff33f7",
   "metadata": {},
   "outputs": [
    {
     "name": "stdout",
     "output_type": "stream",
     "text": [
      "11"
     ]
    }
   ],
   "source": [
    " binary(3)"
   ]
  },
  {
   "cell_type": "code",
   "execution_count": 23,
   "id": "d8b7cf76",
   "metadata": {},
   "outputs": [
    {
     "name": "stdout",
     "output_type": "stream",
     "text": [
      "11"
     ]
    }
   ],
   "source": [
    " binary(3)"
   ]
  },
  {
   "cell_type": "markdown",
   "id": "d61cbce9",
   "metadata": {},
   "source": [
    "Question 6"
   ]
  },
  {
   "cell_type": "code",
   "execution_count": 42,
   "id": "7867054a",
   "metadata": {},
   "outputs": [],
   "source": [
    "class HeadingParser():\n",
    "    def __init__(b):\n",
    "        super().__init__()\n",
    "        b.headings = []\n",
    "\n",
    "    def handle_starttag(b, tag, attrs):\n",
    "        if tag.startswith('h'):\n",
    "            b.headings.append((int(tag[1]), b.get_starttag_text()))\n",
    "\n",
    "    def print_headings(b):\n",
    "        for level, heading in b.headings:\n",
    "            print(\" \" * level + heading[4:-5])"
   ]
  },
  {
   "cell_type": "code",
   "execution_count": 47,
   "id": "59f4850d",
   "metadata": {},
   "outputs": [],
   "source": [
    "infile = open('bloodtype.txt')\n",
    "content = infile.read()\n",
    "infile.close()\n",
    "hp = HeadingParser()\n",
    "hp.print_headings()"
   ]
  },
  {
   "cell_type": "markdown",
   "id": "f91d0c7f",
   "metadata": {},
   "source": [
    "Question 7"
   ]
  },
  {
   "cell_type": "code",
   "execution_count": 26,
   "id": "2c40b206",
   "metadata": {},
   "outputs": [],
   "source": [
    "def webdir(url, depth, indent):\n",
    "   \n",
    "    \n",
    "    print(' ' * indent + url)\n",
    "    \n",
    "    \n",
    "    if depth == 0:\n",
    "        return\n",
    "    \n",
    "   \n",
    "    try:\n",
    "        response = urlopen(url)\n",
    "    except:\n",
    "        return\n",
    "    soup = BeautifulSoup(response.read(), 'html.parser')\n",
    "    \n",
    "   \n",
    "    for link in soup.find_all('a'):\n",
    "        href = link.get('href')\n",
    "        if href.startswith('http'):\n",
    "            next_url = href\n",
    "        else:\n",
    "            next_url = urljoin(url, href)\n",
    "        webdir(next_url, depth-1, indent+1)"
   ]
  },
  {
   "cell_type": "code",
   "execution_count": 27,
   "id": "12108097",
   "metadata": {},
   "outputs": [
    {
     "name": "stdout",
     "output_type": "stream",
     "text": [
      "http://reed.cs.depaul.edu/lperkovic/csc242/test1.html\n"
     ]
    }
   ],
   "source": [
    "webdir('http://reed.cs.depaul.edu/lperkovic/csc242/test1.html', 2, 0)"
   ]
  },
  {
   "cell_type": "markdown",
   "id": "4c1ef30e",
   "metadata": {},
   "source": [
    "Question 8"
   ]
  },
  {
   "cell_type": "code",
   "execution_count": 53,
   "id": "99f75390",
   "metadata": {},
   "outputs": [
    {
     "name": "stdout",
     "output_type": "stream",
     "text": [
      "[(24.8,), (28.4,), (27.9,), (27.6,), (4.2,), (8.3,), (15.7,), (10.4,), (13.6,), (20.7,), (27.7,), (22.2,)]\n",
      "[('Mumbai',), ('London',), ('Cairo',)]\n",
      "[('Mumbai', 'India', 'Winter', 24.8, 5.9), ('Mumbai', 'India', 'Spring', 28.4, 16.2), ('Mumbai', 'India', 'Summer', 27.9, 1549.4), ('Mumbai', 'India', 'Fall', 27.6, 346.0)]\n",
      "[('Mumbai', 'India', 'Fall', 27.6, 346.0), ('London', 'United Kingdom', 'Fall', 10.4, 218.5), ('Cairo', 'Egypt', 'Fall', 22.2, 4.5)]\n",
      "[('London', 'United Kingdom', 'Fall'), ('London', 'United Kingdom', 'Winter'), ('Mumbai', 'India', 'Fall')]\n",
      "[('Cairo', 'Egypt'), ('Mumbai', 'India')]\n",
      "[(27.6,)]\n",
      "[('Fall', 569.0), ('Spring', 192.29999999999998), ('Summer', 1706.5), ('Winter', 230.1)]\n"
     ]
    }
   ],
   "source": [
    "import sqlite3\n",
    "\n",
    "conn = sqlite3.connect('citydata.db')\n",
    "\n",
    "c = conn.cursor()\n",
    "\n",
    "c.execute('''CREATE TABLE citydata1234 (\n",
    "                City TEXT,\n",
    "                Country TEXT,\n",
    "                Season TEXT,\n",
    "                Temperature REAL,\n",
    "                Rainfall REAL\n",
    "            )''')\n",
    "\n",
    "\n",
    "data = [\n",
    "    ('Mumbai', 'India', 'Winter', 24.8, 5.9),\n",
    "    ('Mumbai', 'India', 'Spring', 28.4, 16.2),\n",
    "    ('Mumbai', 'India', 'Summer', 27.9, 1549.4),\n",
    "    ('Mumbai', 'India', 'Fall', 27.6, 346.0),\n",
    "    ('London', 'United Kingdom', 'Winter', 4.2, 207.7),\n",
    "    ('London', 'United Kingdom', 'Spring', 8.3, 169.6),\n",
    "    ('London', 'United Kingdom', 'Summer', 15.7, 157.0),\n",
    "    ('London', 'United Kingdom', 'Fall', 10.4, 218.5),\n",
    "    ('Cairo', 'Egypt', 'Winter', 13.6, 16.5),\n",
    "    ('Cairo', 'Egypt', 'Spring', 20.7, 6.5),\n",
    "    ('Cairo', 'Egypt', 'Summer', 27.7, 0.1),\n",
    "    ('Cairo', 'Egypt', 'Fall', 22.2, 4.5),\n",
    "]\n",
    "\n",
    "c.executemany('INSERT INTO citydata1234 VALUES (?, ?, ?, ?, ?)', data)\n",
    "\n",
    "\n",
    "conn.commit()\n",
    "\n",
    "\n",
    "c.execute('SELECT Temperature FROM citydata1234')\n",
    "print(c.fetchall())\n",
    "\n",
    "c.execute('SELECT DISTINCT City FROM citydata1234')\n",
    "print(c.fetchall())\n",
    "\n",
    "c.execute('SELECT * FROM citydata1234 WHERE Country=\"India\"')\n",
    "print(c.fetchall())\n",
    "\n",
    "c.execute('SELECT * FROM citydata1234 WHERE Season=\"Fall\"')\n",
    "print(c.fetchall())\n",
    "\n",
    "c.execute('SELECT City, Country, Season FROM citydata1234 WHERE Rainfall BETWEEN 200 AND 400 GROUP BY City, Country, Season')\n",
    "print(c.fetchall())\n",
    "\n",
    "c.execute('SELECT City, Country FROM citydata1234 WHERE Season=\"Fall\" GROUP BY City, Country HAVING AVG(Temperature) > 20 ORDER BY AVG(Temperature) ASC')\n",
    "print(c.fetchall())\n",
    "\n",
    "c.execute('SELECT SUM(Rainfall) FROM citydata1234 WHERE City=\"Cairo\"')\n",
    "print(c.fetchall())\n",
    "\n",
    "c.execute('SELECT Season, SUM(Rainfall) FROM citydata1234 GROUP BY Season')\n",
    "print(c.fetchall())\n",
    "\n",
    "\n",
    "conn.close()"
   ]
  },
  {
   "cell_type": "code",
   "execution_count": 32,
   "id": "707a8d3a",
   "metadata": {},
   "outputs": [],
   "source": [
    "words = ['The', 'quick', 'brown', 'fox', 'jumps', 'over', 'the', 'lazy', 'dog']"
   ]
  },
  {
   "cell_type": "code",
   "execution_count": 33,
   "id": "ace02b17",
   "metadata": {},
   "outputs": [
    {
     "name": "stdout",
     "output_type": "stream",
     "text": [
      "['THE', 'QUICK', 'BROWN', 'FOX', 'JUMPS', 'OVER', 'THE', 'LAZY', 'DOG']\n"
     ]
    }
   ],
   "source": [
    "uppercase_words = [element.upper() for element in words]\n",
    "print(uppercase_words)"
   ]
  },
  {
   "cell_type": "code",
   "execution_count": 34,
   "id": "6c90f12d",
   "metadata": {},
   "outputs": [
    {
     "name": "stdout",
     "output_type": "stream",
     "text": [
      "['the', 'quick', 'brown', 'fox', 'jumps', 'over', 'the', 'lazy', 'dog']\n"
     ]
    }
   ],
   "source": [
    "lowercase_words = [element.lower() for element in words]\n",
    "print(lowercase_words)"
   ]
  },
  {
   "cell_type": "code",
   "execution_count": 35,
   "id": "b26eed63",
   "metadata": {},
   "outputs": [
    {
     "data": {
      "text/plain": [
       "[3, 5, 5, 3, 5, 4, 3, 4, 3]"
      ]
     },
     "execution_count": 35,
     "metadata": {},
     "output_type": "execute_result"
    }
   ],
   "source": [
    "[len(element) for element in words]"
   ]
  },
  {
   "cell_type": "code",
   "execution_count": 36,
   "id": "fcd561dc",
   "metadata": {},
   "outputs": [
    {
     "data": {
      "text/plain": [
       "[['THE', 'the', 3],\n",
       " ['QUICK', 'quick', 5],\n",
       " ['BROWN', 'brown', 5],\n",
       " ['FOX', 'fox', 3],\n",
       " ['JUMPS', 'jumps', 5],\n",
       " ['OVER', 'over', 4],\n",
       " ['THE', 'the', 3],\n",
       " ['LAZY', 'lazy', 4],\n",
       " ['DOG', 'dog', 3]]"
      ]
     },
     "execution_count": 36,
     "metadata": {},
     "output_type": "execute_result"
    }
   ],
   "source": [
    "[[element.upper(), element.lower(), len(element)] for element in words]"
   ]
  },
  {
   "cell_type": "code",
   "execution_count": 37,
   "id": "66d61c5e",
   "metadata": {},
   "outputs": [
    {
     "data": {
      "text/plain": [
       "['quick', 'brown', 'jumps', 'over', 'lazy']"
      ]
     },
     "execution_count": 37,
     "metadata": {},
     "output_type": "execute_result"
    }
   ],
   "source": [
    "[element for element in words if len(element) >= 4]"
   ]
  },
  {
   "cell_type": "code",
   "execution_count": null,
   "id": "ddade3dd",
   "metadata": {},
   "outputs": [],
   "source": []
  }
 ],
 "metadata": {
  "kernelspec": {
   "display_name": "Python 3 (ipykernel)",
   "language": "python",
   "name": "python3"
  },
  "language_info": {
   "codemirror_mode": {
    "name": "ipython",
    "version": 3
   },
   "file_extension": ".py",
   "mimetype": "text/x-python",
   "name": "python",
   "nbconvert_exporter": "python",
   "pygments_lexer": "ipython3",
   "version": "3.9.13"
  }
 },
 "nbformat": 4,
 "nbformat_minor": 5
}
